{
 "cells": [
  {
   "cell_type": "code",
   "execution_count": 16,
   "metadata": {
    "collapsed": false
   },
   "outputs": [],
   "source": [
    "class BSTree(object):\n",
    "    \n",
    "    def __init__(self, root=None, left=None, right=None):\n",
    "        self.root = root\n",
    "        self.left = left\n",
    "        self.right = right\n",
    "        \n",
    "    def insert(self, root):\n",
    "        if root <= self.root:\n",
    "            if self.left == None:\n",
    "                self.left = BSTree(root)\n",
    "            else:\n",
    "                self.left.insert(root)\n",
    "        else:\n",
    "            if self.right == None:\n",
    "                self.right = BSTree(root)\n",
    "            else:\n",
    "                self.right.insert(root)        \n",
    "\n",
    "    \n",
    "    def search(self, value):\n",
    "        if value == self.root:\n",
    "            return True\n",
    "        if value < self.root:\n",
    "            if self.left == None:\n",
    "                return False #since we have no more left nodes, we exit without finding anything.\n",
    "            else:\n",
    "                return self.left.search(value) #we would have to repeat the search until we exit.\n",
    "            \n",
    "        else:\n",
    "            if self.right == None:\n",
    "                return False #since value is larger than root, but no more right nodes left.\n",
    "            else:\n",
    "                return self.right.search(value)\n",
    "        \n",
    "    def inorder_traversal(self):\n",
    "        \"\"\"\n",
    "        left, root, right\n",
    "        \n",
    "        \"\"\"\n",
    "        if self.left != None:\n",
    "            self.left.inorder_traversal() #recursively goes through left sub-tree until exit.\n",
    "        print self.root #prints the root value of leftmost node.\n",
    "        if self.right != None:\n",
    "            self.right.inorder_traversal() #recursively goes through right sub-tree until exit.\n",
    "            \n",
    "    def preorder_traversal(self):\n",
    "        \"\"\"\n",
    "        root, left, right.\n",
    "        pre because root is first.\n",
    "        \"\"\"\n",
    "        print self.root #prints root first\n",
    "        if self.left != None:\n",
    "            self.left.preorder_traversal() #recursively goes through left sub-tree until exit.\n",
    "        if self.right != None:\n",
    "            self.right.preorder_traversal() #recursively goes through right sub-tree until exit.\n",
    "        \n",
    "    \n",
    "    def postorder_traversal(self):\n",
    "        \"\"\"\n",
    "        left, right, root.\n",
    "        post because root is last.\n",
    "        \"\"\"\n",
    "        if self.left != None:\n",
    "            self.left.postorder_traversal() #recursively goes through left sub-tree until exit.\n",
    "        if self.right != None:\n",
    "            self.right.postorder_traversal() #recursively goes through right sub-tree until exit.\n",
    "        print self.root"
   ]
  },
  {
   "cell_type": "code",
   "execution_count": 18,
   "metadata": {
    "collapsed": false
   },
   "outputs": [],
   "source": [
    "new_bst_tree = BSTree(10)"
   ]
  },
  {
   "cell_type": "code",
   "execution_count": 19,
   "metadata": {
    "collapsed": true
   },
   "outputs": [],
   "source": [
    "new_bst_tree.insert(5)\n",
    "new_bst_tree.insert(8)\n",
    "new_bst_tree.insert(15)"
   ]
  },
  {
   "cell_type": "code",
   "execution_count": 20,
   "metadata": {
    "collapsed": false
   },
   "outputs": [
    {
     "name": "stdout",
     "output_type": "stream",
     "text": [
      "5\n",
      "8\n",
      "10\n",
      "15\n"
     ]
    }
   ],
   "source": [
    "new_bst_tree.inorder_traversal()"
   ]
  },
  {
   "cell_type": "code",
   "execution_count": 21,
   "metadata": {
    "collapsed": false
   },
   "outputs": [
    {
     "name": "stdout",
     "output_type": "stream",
     "text": [
      "10\n",
      "5\n",
      "8\n",
      "15\n"
     ]
    }
   ],
   "source": [
    "new_bst_tree.preorder_traversal()"
   ]
  },
  {
   "cell_type": "code",
   "execution_count": 22,
   "metadata": {
    "collapsed": false
   },
   "outputs": [
    {
     "name": "stdout",
     "output_type": "stream",
     "text": [
      "8\n",
      "5\n",
      "15\n",
      "10\n"
     ]
    }
   ],
   "source": [
    "new_bst_tree.postorder_traversal()"
   ]
  }
 ],
 "metadata": {
  "kernelspec": {
   "display_name": "Python [Root]",
   "language": "python",
   "name": "Python [Root]"
  },
  "language_info": {
   "codemirror_mode": {
    "name": "ipython",
    "version": 2
   },
   "file_extension": ".py",
   "mimetype": "text/x-python",
   "name": "python",
   "nbconvert_exporter": "python",
   "pygments_lexer": "ipython2",
   "version": "2.7.12"
  }
 },
 "nbformat": 4,
 "nbformat_minor": 0
}
