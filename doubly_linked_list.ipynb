{
 "cells": [
  {
   "cell_type": "code",
   "execution_count": 20,
   "metadata": {},
   "outputs": [],
   "source": [
    "class Node(object):\n",
    "    def __init__(self, data, prev_node=None, next_node=None):\n",
    "        self.data = data\n",
    "        self.prev_node = prev_node\n",
    "        self.next_node = next_node\n",
    "    \n",
    "    def get_data(self):\n",
    "        return self.data\n",
    "    \n",
    "    def get_next(self):\n",
    "        return self.next_node\n",
    "    \n",
    "    def get_prev(self):\n",
    "        return self.prev_node\n",
    "    \n",
    "    def set_next(self, new_next):\n",
    "        self.next_node = new_next\n",
    "        \n",
    "    def set_prev(self, new_prev):\n",
    "        self.prev_node = new_prev"
   ]
  },
  {
   "cell_type": "code",
   "execution_count": 71,
   "metadata": {},
   "outputs": [],
   "source": [
    "class DoublyLinkedList(object):\n",
    "    def __init__(self, head=None):\n",
    "        self.head = head\n",
    "        \n",
    "    def insert(self, data):\n",
    "        new_node = Node(data)\n",
    "        if self.head is None:\n",
    "            self.head = new_node\n",
    "        else:\n",
    "            self.head.set_prev(new_node) # attach new node to current head's previous pointer.\n",
    "            new_node.set_next(self.head) # attach new node's next pointer to current head node.\n",
    "            self.head = new_node # moves head pointer backwards to new node.\n",
    "    \n",
    "    def size(self):\n",
    "        current = self.head\n",
    "        size = 0\n",
    "        while current:\n",
    "            size += 1\n",
    "            current = current.get_next()\n",
    "        return size\n",
    "    \n",
    "    def search(self, data):\n",
    "        current = self.head\n",
    "        found = False\n",
    "        while current:\n",
    "            if current.get_data() == data:\n",
    "                found = True\n",
    "                break\n",
    "            else:\n",
    "                current = current.get_next()\n",
    "        if current is None:\n",
    "            raise ValueError('{} is not found in the list!'.format(data))\n",
    "        return current\n",
    "    \n",
    "    def delete(self, data):\n",
    "        target_node = self.search(data)\n",
    "        prev_node = target_node.get_prev()\n",
    "        next_node = target_node.get_next()\n",
    "        prev_node.set_next(next_node)\n",
    "        next_node.set_prev(prev_node)\n",
    "        \n",
    "    def reverse(self):\n",
    "        current = self.head\n",
    "        while current:\n",
    "            prev_node = current.get_prev()\n",
    "            next_node = current.get_next()\n",
    "            current.set_prev(next_node)\n",
    "            current.set_next(prev_node)\n",
    "            current = next_node\n",
    "        self.head = prev_node.get_prev()\n",
    "        \n",
    "    def __repr__(self):\n",
    "        result = ''\n",
    "        current = self.head\n",
    "        while current:\n",
    "            result += '{}, '.format(current.get_data())\n",
    "            current = current.get_next()\n",
    "        return \"[{}]\".format(result[:-2])"
   ]
  },
  {
   "cell_type": "code",
   "execution_count": 44,
   "metadata": {},
   "outputs": [
    {
     "name": "stdout",
     "output_type": "stream",
     "text": [
      "10\n",
      "5\n",
      "6\n",
      "4\n"
     ]
    },
    {
     "ename": "ValueError",
     "evalue": "5 is not found in the list!",
     "traceback": [
      "\u001b[1;31m---------------------------------------------------------------------------\u001b[0m",
      "\u001b[1;31mValueError\u001b[0m                                Traceback (most recent call last)",
      "\u001b[1;32m<ipython-input-44-005811641bed>\u001b[0m in \u001b[0;36m<module>\u001b[1;34m()\u001b[0m\n\u001b[0;32m     12\u001b[0m \u001b[0mtest_list\u001b[0m\u001b[1;33m.\u001b[0m\u001b[0mdelete\u001b[0m\u001b[1;33m(\u001b[0m\u001b[1;36m5\u001b[0m\u001b[1;33m)\u001b[0m\u001b[1;33m\u001b[0m\u001b[0m\n\u001b[0;32m     13\u001b[0m \u001b[1;33m\u001b[0m\u001b[0m\n\u001b[1;32m---> 14\u001b[1;33m \u001b[1;32mprint\u001b[0m \u001b[0mtest_list\u001b[0m\u001b[1;33m.\u001b[0m\u001b[0msearch\u001b[0m\u001b[1;33m(\u001b[0m\u001b[1;36m5\u001b[0m\u001b[1;33m)\u001b[0m\u001b[1;33m.\u001b[0m\u001b[0mget_data\u001b[0m\u001b[1;33m(\u001b[0m\u001b[1;33m)\u001b[0m\u001b[1;33m\u001b[0m\u001b[0m\n\u001b[0m",
      "\u001b[1;32m<ipython-input-43-a715ace53a93>\u001b[0m in \u001b[0;36msearch\u001b[1;34m(self, data)\u001b[0m\n\u001b[0;32m     30\u001b[0m                 \u001b[0mcurrent\u001b[0m \u001b[1;33m=\u001b[0m \u001b[0mcurrent\u001b[0m\u001b[1;33m.\u001b[0m\u001b[0mget_next\u001b[0m\u001b[1;33m(\u001b[0m\u001b[1;33m)\u001b[0m\u001b[1;33m\u001b[0m\u001b[0m\n\u001b[0;32m     31\u001b[0m         \u001b[1;32mif\u001b[0m \u001b[0mcurrent\u001b[0m \u001b[1;32mis\u001b[0m \u001b[0mNone\u001b[0m\u001b[1;33m:\u001b[0m\u001b[1;33m\u001b[0m\u001b[0m\n\u001b[1;32m---> 32\u001b[1;33m             \u001b[1;32mraise\u001b[0m \u001b[0mValueError\u001b[0m\u001b[1;33m(\u001b[0m\u001b[1;34m'{} is not found in the list!'\u001b[0m\u001b[1;33m.\u001b[0m\u001b[0mformat\u001b[0m\u001b[1;33m(\u001b[0m\u001b[0mdata\u001b[0m\u001b[1;33m)\u001b[0m\u001b[1;33m)\u001b[0m\u001b[1;33m\u001b[0m\u001b[0m\n\u001b[0m\u001b[0;32m     33\u001b[0m         \u001b[1;32mreturn\u001b[0m \u001b[0mcurrent\u001b[0m\u001b[1;33m\u001b[0m\u001b[0m\n\u001b[0;32m     34\u001b[0m \u001b[1;33m\u001b[0m\u001b[0m\n",
      "\u001b[1;31mValueError\u001b[0m: 5 is not found in the list!"
     ],
     "output_type": "error"
    }
   ],
   "source": [
    "test_list = DoublyLinkedList()\n",
    "\n",
    "for i in xrange(10):\n",
    "    test_list.insert(i)\n",
    "    \n",
    "print test_list.size()\n",
    "\n",
    "print test_list.search(5).get_data()\n",
    "print test_list.search(5).get_prev().get_data()\n",
    "print test_list.search(5).get_next().get_data()\n",
    "\n",
    "test_list.delete(5)\n",
    "\n",
    "print test_list.search(5).get_data()"
   ]
  },
  {
   "cell_type": "code",
   "execution_count": 72,
   "metadata": {},
   "outputs": [
    {
     "name": "stdout",
     "output_type": "stream",
     "text": [
      "[9, 8, 7, 6, 5, 4, 3, 2, 1, 0]\n",
      "[9, 8, 7, 6, 4, 3, 2, 1, 0]\n",
      "[0, 1, 2, 3, 4, 6, 7, 8, 9]\n"
     ]
    }
   ],
   "source": [
    "test_list = DoublyLinkedList()\n",
    "\n",
    "for i in xrange(10):\n",
    "    test_list.insert(i)\n",
    "    \n",
    "print test_list\n",
    "\n",
    "test_list.delete(5)\n",
    "\n",
    "print test_list\n",
    "\n",
    "test_list.reverse()\n",
    "\n",
    "print test_list"
   ]
  }
 ],
 "metadata": {
  "kernelspec": {
   "display_name": "Python 2",
   "language": "python",
   "name": "python2"
  },
  "language_info": {
   "codemirror_mode": {
    "name": "ipython",
    "version": 2
   },
   "file_extension": ".py",
   "mimetype": "text/x-python",
   "name": "python",
   "nbconvert_exporter": "python",
   "pygments_lexer": "ipython2",
   "version": "2.7.13"
  }
 },
 "nbformat": 4,
 "nbformat_minor": 2
}
