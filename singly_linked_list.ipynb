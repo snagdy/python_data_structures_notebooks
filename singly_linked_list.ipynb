{
 "cells": [
  {
   "cell_type": "code",
   "execution_count": 35,
   "metadata": {},
   "outputs": [
    {
     "name": "stdout",
     "output_type": "stream",
     "text": [
      "\n"
     ]
    }
   ],
   "source": [
    "class Node(object):\n",
    "    \n",
    "    def __init__(self, data=None, next_node=None):\n",
    "        self.data = data\n",
    "        self.next_node = next_node\n",
    "        \n",
    "    def get_data(self):\n",
    "        return self.data\n",
    "    \n",
    "    def get_next(self):\n",
    "        return self.next_node\n",
    "    \n",
    "    def set_next(self, new_next):\n",
    "        self.next_node = new_next"
   ]
  },
  {
   "cell_type": "code",
   "execution_count": 149,
   "metadata": {},
   "outputs": [],
   "source": [
    "class SinglyLinkedList(object):\n",
    "    def __init__(self, head=None):\n",
    "        self.head = head\n",
    "        self._reversed = None\n",
    "        \n",
    "    def insert(self, data): # O(1) time complexity, since we always insert in the same place.\n",
    "        new_node = Node(data)\n",
    "        new_node.set_next(self.head) # makes it so the next node in the list is inserted at the head.\n",
    "        self.head = new_node # places our new node at the head.\n",
    "        \n",
    "    def size(self):\n",
    "        \"\"\"\n",
    "        This traverses through our linked list, moving the current pointer to the next node,\n",
    "        while the current pointer is an actual node, incrementing our node counter on each iteration.\n",
    "        O(n) time complexity, since we always visit all n nodes.\n",
    "        \"\"\"\n",
    "        current = self.head\n",
    "        count = 0\n",
    "        while current: # while the current node exists\n",
    "            count += 1 # increments counter by one\n",
    "            current = current.get_next() #move loop to next node\n",
    "        return count\n",
    "    \n",
    "    def search(self, data): #\n",
    "        current = self.head\n",
    "        found = False\n",
    "        while current and found is False:\n",
    "            if current.get_data() == data: # check if the current node's data is our searched data.\n",
    "                found = True\n",
    "            else:\n",
    "                current = current.get_next() # else move the pointer to the next node.\n",
    "        if current is None:\n",
    "            raise ValueError(\"{} is not in list\".format(data)) # exits when we do not find the data\n",
    "        return current # exits when we find the data, returning the node.\n",
    "    \n",
    "    def delete(self, data):\n",
    "        \"\"\"\n",
    "        This function traverses the list by moving the current pointer, and the previous pointer\n",
    "        until it finds the first instance of our target value, which it removes by setting its previous\n",
    "        node's next pointer to the deleted node's next pointer node.\n",
    "        Worst case scenario is O(n) time complexity.\n",
    "        \"\"\"\n",
    "        current = self.head # we always want to start operations at the head.\n",
    "        found = False\n",
    "        previous = None\n",
    "        while current and found is False:\n",
    "            if current.get_data() == data:\n",
    "                found = True # when we find our node to delete, we set this to true, and move to else.\n",
    "            else:\n",
    "                previous = current # we set the current to our previous node\n",
    "                current = current.get_next() # before moving our pointer to the next.\n",
    "        if current is None:\n",
    "            raise ValueError(\"{} is not in list\".format(data))\n",
    "        if previous is None:\n",
    "            self.head = current.get_next()\n",
    "        else:\n",
    "            # this is the line that moves the 'previous' node's next pointer to the one after next.\n",
    "            # this line does the business, but we only exit if current and previous exist.\n",
    "            previous.set_next(current.get_next())\n",
    "            \n",
    "    def reverse(self):\n",
    "        prev_node = None\n",
    "        current = self.head\n",
    "        while current:\n",
    "            next_node = current.get_next()\n",
    "            current.set_next(prev_node)\n",
    "            prev_node = current\n",
    "            current = next_node\n",
    "        self.head = prev_node\n",
    "        \n",
    "    def __repr__(self):\n",
    "        result = ''\n",
    "        current = self.head\n",
    "        while current:\n",
    "            result += '{}, '.format(current.get_data())\n",
    "            current = current.get_next()\n",
    "        return \"[{}]\".format(result[:-2])\n",
    "            "
   ]
  },
  {
   "cell_type": "code",
   "execution_count": 156,
   "metadata": {},
   "outputs": [
    {
     "name": "stdout",
     "output_type": "stream",
     "text": [
      "3\n",
      "[3, 2, 1]\n"
     ]
    }
   ],
   "source": [
    "ll = SinglyLinkedList()\n",
    "ll.insert(1)\n",
    "ll.insert(2)\n",
    "ll.insert(3)\n",
    "\n",
    "print ll.search(3).get_data()\n",
    "print ll"
   ]
  },
  {
   "cell_type": "code",
   "execution_count": 157,
   "metadata": {},
   "outputs": [
    {
     "name": "stdout",
     "output_type": "stream",
     "text": [
      "[1, 2, 3]\n"
     ]
    }
   ],
   "source": [
    "ll.reverse()\n",
    "\n",
    "print ll"
   ]
  },
  {
   "cell_type": "code",
   "execution_count": 158,
   "metadata": {},
   "outputs": [
    {
     "name": "stdout",
     "output_type": "stream",
     "text": [
      "[1, 2]\n"
     ]
    }
   ],
   "source": [
    "ll.delete(3)\n",
    "print ll"
   ]
  }
 ],
 "metadata": {
  "anaconda-cloud": {},
  "kernelspec": {
   "display_name": "Python 2",
   "language": "python",
   "name": "python2"
  },
  "language_info": {
   "codemirror_mode": {
    "name": "ipython",
    "version": 2
   },
   "file_extension": ".py",
   "mimetype": "text/x-python",
   "name": "python",
   "nbconvert_exporter": "python",
   "pygments_lexer": "ipython2",
   "version": "2.7.13"
  }
 },
 "nbformat": 4,
 "nbformat_minor": 1
}
