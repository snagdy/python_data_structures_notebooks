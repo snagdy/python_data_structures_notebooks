{
 "cells": [
  {
   "cell_type": "code",
   "execution_count": 40,
   "metadata": {
    "collapsed": true
   },
   "outputs": [],
   "source": [
    "class Node(object):\n",
    "    \n",
    "    def __init__(self, data=None, next_node=None):\n",
    "        self.data = data\n",
    "        self.next_node = next_node\n",
    "        \n",
    "    def get_data(self):\n",
    "        return self.data\n",
    "    \n",
    "    def get_next(self):\n",
    "        return self.next_node\n",
    "    \n",
    "    def set_next(self, new_next):\n",
    "        self.next_node = new_next"
   ]
  },
  {
   "cell_type": "code",
   "execution_count": 44,
   "metadata": {
    "collapsed": true
   },
   "outputs": [],
   "source": [
    "class LinkedList(object):\n",
    "    def __init__(self, head=None):\n",
    "        self.head = head\n",
    "        self._reversed = None\n",
    "        \n",
    "    def insert(self, data): #O(1) time complexity, since we always insert in the same place.\n",
    "        new_node = Node(data)\n",
    "        new_node.set_next(self.head) #makes it so the next node in the list is inserted at the head.\n",
    "        self.head = new_node #places our new node at the head.\n",
    "        \n",
    "    def size(self):\n",
    "        \"\"\"\n",
    "        This traverses through our linked list, moving the current pointer to the next node,\n",
    "        while the current pointer is an actual node, incrementing our node counter on each iteration.\n",
    "        O(n) time complexity, since we always visit all n nodes.\n",
    "        \"\"\"\n",
    "        current = self.head\n",
    "        count = 0\n",
    "        while current: #while the current node exists\n",
    "            count += 1 #increments counter by one\n",
    "            current = current.get_next() #move loop to next node\n",
    "        return count\n",
    "    \n",
    "    def search(self, data): #\n",
    "        current = self.head\n",
    "        found = False\n",
    "        while current and found is False:\n",
    "            if current.get_data() == data: #check if the current node's data is our searched data.\n",
    "                found = True\n",
    "            else:\n",
    "                current = current.get_next() #else move the pointer to the next node.\n",
    "        if current is None:\n",
    "            raise ValueError(\"{} is not in list\".format(data)) #exits when we do not find the data\n",
    "        return current #exits when we find the data, returning the node.\n",
    "    \n",
    "    def delete(self, data):\n",
    "        \"\"\"\n",
    "        This function traverses the list by moving the current pointer, and the previous pointer\n",
    "        until it finds the first instance of our target value, which it removes by setting its previous\n",
    "        node's next pointer to the deleted node's next pointer node.\n",
    "        Worst case scenario is O(n) time complexity.\n",
    "        \"\"\"\n",
    "        current = self.head #we always want to start operations at the head.\n",
    "        found = False\n",
    "        previous = False\n",
    "        while current and found is False:\n",
    "            if current.get_data() == data:\n",
    "                found = True #when we find our node to delete, we set this to true, and move to else.\n",
    "            else:\n",
    "                previous = current #we set the current to our previous node\n",
    "                current = current.get_next() #before moving our pointer to the next.\n",
    "        if current is None:\n",
    "            raise ValueError(\"{} is not in list\".format(data))\n",
    "        if previous is None:\n",
    "            self.head = current.get_next()\n",
    "        else:\n",
    "            #this is the line that moves the 'previous' node's next pointer to the one after next.\n",
    "            #this line does the business, but we only exit if current and previous exist.\n",
    "            previous.set_next(current.get_next())\n",
    "            \n",
    "            \n",
    "    def reverse(self):\n",
    "        \"\"\"\n",
    "        This function fills the self.reversed_ attribute with a reversed LinkedList() object.\n",
    "        It iterates through our list, where items are stacked front to back.\n",
    "        O(n) time complexity in the worst case. Disadvantage is increased space usage.\n",
    "        \"\"\"\n",
    "        current = self.head\n",
    "        self._reversed = LinkedList()\n",
    "        while current: #while the current node exists\n",
    "            self._reversed.insert(current.data)\n",
    "            current = current.get_next() #move loop to next node\n",
    "        return self._reversed\n",
    "            \n",
    "    def __repr__(self):\n",
    "        p_list = []\n",
    "        current = self.head\n",
    "        while current:\n",
    "            p_list.append(current.get_data())\n",
    "            current = current.get_next()\n",
    "        return str(p_list[::-1])\n",
    "            "
   ]
  },
  {
   "cell_type": "code",
   "execution_count": 45,
   "metadata": {
    "collapsed": false
   },
   "outputs": [
    {
     "name": "stdout",
     "output_type": "stream",
     "text": [
      "3\n",
      "[1, 2, 3]\n"
     ]
    }
   ],
   "source": [
    "ll = LinkedList()\n",
    "ll.insert(1)\n",
    "ll.insert(2)\n",
    "ll.insert(3)\n",
    "\n",
    "print ll.search(3).data\n",
    "print ll"
   ]
  },
  {
   "cell_type": "code",
   "execution_count": 46,
   "metadata": {
    "collapsed": false
   },
   "outputs": [
    {
     "name": "stdout",
     "output_type": "stream",
     "text": [
      "[3, 2, 1]\n"
     ]
    }
   ],
   "source": [
    "print ll.reverse()\n"
   ]
  }
 ],
 "metadata": {
  "anaconda-cloud": {},
  "kernelspec": {
   "display_name": "Python [Root]",
   "language": "python",
   "name": "Python [Root]"
  },
  "language_info": {
   "codemirror_mode": {
    "name": "ipython",
    "version": 2
   },
   "file_extension": ".py",
   "mimetype": "text/x-python",
   "name": "python",
   "nbconvert_exporter": "python",
   "pygments_lexer": "ipython2",
   "version": "2.7.12"
  }
 },
 "nbformat": 4,
 "nbformat_minor": 0
}
