{
 "cells": [
  {
   "cell_type": "code",
   "execution_count": 19,
   "metadata": {},
   "outputs": [],
   "source": [
    "class Node(object):\n",
    "    def __init__(self, data, next_node=None, prev_node=None):\n",
    "        self.data = data\n",
    "        self.next = next_node\n",
    "        self.prev = prev_node\n",
    "        \n",
    "    def __repr__(self):\n",
    "        return '{} <- {} -> {}'.format(self.prev.data, self.data, self.next.data)"
   ]
  },
  {
   "cell_type": "code",
   "execution_count": 22,
   "metadata": {},
   "outputs": [],
   "source": [
    "class Circular_DLL(object):\n",
    "    def __init__(self, head=None):\n",
    "        self.head = head\n",
    "        self.size = 0\n",
    "        \n",
    "    def insert(self, data):\n",
    "        new_node = Node(data)\n",
    "        if self.head == None:\n",
    "            self.head = new_node\n",
    "            new_node.next = self.head\n",
    "            new_node.prev = self.head\n",
    "            self.size += 1\n",
    "        else:\n",
    "            last_node = self.head\n",
    "            while last_node:\n",
    "                if last_node.next == self.head:\n",
    "                    break\n",
    "                last_node = last_node.next\n",
    "            last_node.next = new_node\n",
    "            new_node.prev = last_node\n",
    "            new_node.next = self.head\n",
    "            self.size += 1\n",
    "    \n",
    "    def search(self, search_val):\n",
    "        current = self.head\n",
    "        found = False\n",
    "        while current and not found:\n",
    "            if current.data == search_val:\n",
    "                found = True\n",
    "            else:\n",
    "                if current.next == self.head:\n",
    "                    break\n",
    "                current = current.next\n",
    "        if not found:\n",
    "            raise ValueError(\"{} not found in list\".format(search_val))\n",
    "        return current\n",
    "    \n",
    "    def __repr__(self):\n",
    "        string = ''\n",
    "        current = self.head\n",
    "        while current:\n",
    "            string += ' {} <->'.format(current.data)\n",
    "            if current.next == self.head:\n",
    "                break\n",
    "            current = current.next\n",
    "        return 'START <->{} START'.format(string)"
   ]
  },
  {
   "cell_type": "code",
   "execution_count": 23,
   "metadata": {},
   "outputs": [
    {
     "name": "stdout",
     "output_type": "stream",
     "text": [
      "0\n",
      "START <-> START\n",
      "3\n",
      "START <-> 0 <-> 1 <-> 2 <-> START\n"
     ]
    }
   ],
   "source": [
    "cdll = Circular_DLL()\n",
    "\n",
    "print cdll.size\n",
    "print cdll\n",
    "\n",
    "for i in xrange(3):\n",
    "    cdll.insert(i)\n",
    "\n",
    "print cdll.size\n",
    "print cdll"
   ]
  },
  {
   "cell_type": "code",
   "execution_count": 24,
   "metadata": {},
   "outputs": [
    {
     "name": "stdout",
     "output_type": "stream",
     "text": [
      "1 <- 2 -> 0\n"
     ]
    }
   ],
   "source": [
    "print cdll.search(2)"
   ]
  }
 ],
 "metadata": {
  "kernelspec": {
   "display_name": "Python 2",
   "language": "python",
   "name": "python2"
  },
  "language_info": {
   "codemirror_mode": {
    "name": "ipython",
    "version": 2
   },
   "file_extension": ".py",
   "mimetype": "text/x-python",
   "name": "python",
   "nbconvert_exporter": "python",
   "pygments_lexer": "ipython2",
   "version": "2.7.13"
  }
 },
 "nbformat": 4,
 "nbformat_minor": 2
}
