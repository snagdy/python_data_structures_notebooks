{
 "cells": [
  {
   "cell_type": "code",
   "execution_count": 23,
   "metadata": {},
   "outputs": [],
   "source": [
    "class Node(object):\n",
    "    def __init__(self, data, next_node=None):\n",
    "        self.data = data\n",
    "        self.next = next_node"
   ]
  },
  {
   "cell_type": "code",
   "execution_count": 24,
   "metadata": {},
   "outputs": [],
   "source": [
    "class Circular_SLL(object):\n",
    "    def __init__(self, head=None):\n",
    "        self.head = head\n",
    "        self.size = 0\n",
    "        \n",
    "    def insert(self, data):\n",
    "        new_node = Node(data)\n",
    "        if self.head == None:\n",
    "            self.head = new_node\n",
    "            new_node.next = self.head\n",
    "            self.size += 1\n",
    "        else:\n",
    "            new_node.next = self.head\n",
    "            current = self.head.next\n",
    "            while current.next != self.head:\n",
    "                current = current.next\n",
    "            current.next = new_node\n",
    "            self.size += 1\n",
    "    \n",
    "    def search(self, search_val):\n",
    "        current = self.head\n",
    "        found = False\n",
    "        while current and not found:\n",
    "            if current.data  == search_val:\n",
    "                found = True\n",
    "            else:\n",
    "                if current.next == self.head:\n",
    "                    break\n",
    "                current = current.next\n",
    "        if not found:\n",
    "            raise ValueError(\"{} not found in list\".format(search_val))\n",
    "        return current\n",
    "    \n",
    "    def traverse(self):\n",
    "        current = self.head\n",
    "        while current:\n",
    "            print current.data\n",
    "            if current.next == self.head:\n",
    "                break\n",
    "            current = current.next\n",
    "    \n",
    "    def delete(self, delete_val):\n",
    "        target_node = self.search(delete_val)\n",
    "        if target_node == self.head: # case for the first node / head node\n",
    "            self.head = target_node.next\n",
    "            current = self.head\n",
    "            while current:\n",
    "                if current.next == target_node:\n",
    "                    current.next = self.head\n",
    "                    break\n",
    "                current = current.next\n",
    "                self.size -= 1\n",
    "        elif target_node.next == self.head: # case for the last node.\n",
    "            current = self.head\n",
    "            while current:\n",
    "                if current.next == target_node:\n",
    "                    current.next = self.head\n",
    "                    break\n",
    "                current = current.next\n",
    "                self.size -= 1\n",
    "        else:\n",
    "            current = self.head\n",
    "            while current:\n",
    "                if current.next == target_node:\n",
    "                    break\n",
    "                current = current.next\n",
    "            current.next = target_node.next\n",
    "            self.size -= 1\n",
    "            \n",
    "    def __repr__(self):\n",
    "        string = ''\n",
    "        current = self.head\n",
    "        while current:\n",
    "            string += ' {} ->'.format(current.data)\n",
    "            if current.next == self.head:\n",
    "                break\n",
    "            current = current.next\n",
    "        return 'START{} START'.format(string)\n",
    "    \n",
    "    "
   ]
  },
  {
   "cell_type": "code",
   "execution_count": 25,
   "metadata": {},
   "outputs": [
    {
     "name": "stdout",
     "output_type": "stream",
     "text": [
      "0\n",
      "1\n",
      "2\n"
     ]
    }
   ],
   "source": [
    "test_csll = Circular_SLL()\n",
    "\n",
    "for i in range(3):\n",
    "    test_csll.insert(i)\n",
    "    \n",
    "test_csll.traverse()"
   ]
  },
  {
   "cell_type": "code",
   "execution_count": 26,
   "metadata": {},
   "outputs": [
    {
     "name": "stdout",
     "output_type": "stream",
     "text": [
      "3\n"
     ]
    }
   ],
   "source": [
    "print test_csll.size"
   ]
  },
  {
   "cell_type": "code",
   "execution_count": 27,
   "metadata": {},
   "outputs": [
    {
     "name": "stdout",
     "output_type": "stream",
     "text": [
      "2\n"
     ]
    }
   ],
   "source": [
    "print test_csll.search(2).data"
   ]
  },
  {
   "cell_type": "code",
   "execution_count": 28,
   "metadata": {},
   "outputs": [
    {
     "name": "stdout",
     "output_type": "stream",
     "text": [
      "START 0 -> 1 -> 2 -> START\n"
     ]
    }
   ],
   "source": [
    "print test_csll"
   ]
  },
  {
   "cell_type": "code",
   "execution_count": 29,
   "metadata": {},
   "outputs": [],
   "source": [
    "test_csll2 = Circular_SLL()\n",
    "\n",
    "for i in range(3):\n",
    "    test_csll2.insert(i)"
   ]
  },
  {
   "cell_type": "code",
   "execution_count": 30,
   "metadata": {},
   "outputs": [
    {
     "name": "stdout",
     "output_type": "stream",
     "text": [
      "START 0 -> 1 -> 2 -> START 3\n",
      "START 0 -> 1 -> START 2\n"
     ]
    }
   ],
   "source": [
    "print test_csll2, test_csll2.size\n",
    "\n",
    "test_csll2.delete(2)\n",
    "\n",
    "print test_csll2, test_csll2.size"
   ]
  },
  {
   "cell_type": "code",
   "execution_count": 31,
   "metadata": {},
   "outputs": [],
   "source": [
    "test_csll3 = Circular_SLL()\n",
    "\n",
    "for i in range(3):\n",
    "    test_csll3.insert(i)"
   ]
  },
  {
   "cell_type": "code",
   "execution_count": 32,
   "metadata": {},
   "outputs": [
    {
     "name": "stdout",
     "output_type": "stream",
     "text": [
      "START 0 -> 1 -> 2 -> START 3\n",
      "START 0 -> 2 -> START 2\n"
     ]
    }
   ],
   "source": [
    "print test_csll3, test_csll3.size\n",
    "\n",
    "test_csll3.delete(1)\n",
    "\n",
    "print test_csll3, test_csll3.size"
   ]
  },
  {
   "cell_type": "code",
   "execution_count": 33,
   "metadata": {},
   "outputs": [],
   "source": [
    "test_csll4 = Circular_SLL()\n",
    "\n",
    "for i in range(3):\n",
    "    test_csll4.insert(i)"
   ]
  },
  {
   "cell_type": "code",
   "execution_count": 34,
   "metadata": {},
   "outputs": [
    {
     "name": "stdout",
     "output_type": "stream",
     "text": [
      "START 0 -> 1 -> 2 -> START 3\n",
      "START 1 -> 2 -> START 2\n"
     ]
    }
   ],
   "source": [
    "print test_csll4, test_csll4.size\n",
    "\n",
    "test_csll4.delete(0)\n",
    "\n",
    "print test_csll4, test_csll4.size"
   ]
  }
 ],
 "metadata": {
  "kernelspec": {
   "display_name": "Python 2",
   "language": "python",
   "name": "python2"
  },
  "language_info": {
   "codemirror_mode": {
    "name": "ipython",
    "version": 2
   },
   "file_extension": ".py",
   "mimetype": "text/x-python",
   "name": "python",
   "nbconvert_exporter": "python",
   "pygments_lexer": "ipython2",
   "version": "2.7.13"
  }
 },
 "nbformat": 4,
 "nbformat_minor": 1
}
