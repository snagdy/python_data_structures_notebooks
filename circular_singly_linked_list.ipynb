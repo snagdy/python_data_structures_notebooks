{
 "cells": [
  {
   "cell_type": "code",
   "execution_count": 165,
   "metadata": {},
   "outputs": [],
   "source": [
    "class Node(object):\n",
    "    def __init__(self, data, next_node=None):\n",
    "        self.data = data\n",
    "        self.next = next_node"
   ]
  },
  {
   "cell_type": "code",
   "execution_count": 173,
   "metadata": {},
   "outputs": [],
   "source": [
    "class Circular_SLL(object):\n",
    "    def __init__(self, head=None):\n",
    "        self.head = head\n",
    "        self.size = 0\n",
    "        \n",
    "    def insert(self, data):\n",
    "        new_node = Node(data)\n",
    "        if self.head == None:\n",
    "            self.head = new_node\n",
    "            new_node.next = self.head\n",
    "            self.size += 1\n",
    "        else:\n",
    "            new_node.next = self.head\n",
    "            current = self.head.next\n",
    "            while current.next != self.head:\n",
    "                current = current.next\n",
    "            current.next = new_node\n",
    "            self.size += 1\n",
    "    \n",
    "    def search(self, search_val):\n",
    "        current = self.head\n",
    "        found = False\n",
    "        while current and not found:\n",
    "            if current.data  == search_val:\n",
    "                found = True\n",
    "            else:\n",
    "                if current.next == self.head:\n",
    "                    break\n",
    "                current = current.next\n",
    "        if not found:\n",
    "            raise ValueError(\"{} not found in list\".format(search_val))\n",
    "        return current\n",
    "    \n",
    "    def traverse(self):\n",
    "        current = self.head\n",
    "        while current:\n",
    "            print current.data\n",
    "            if current.next == self.head:\n",
    "                break\n",
    "            current = current.next\n",
    "    \n",
    "    def delete(self, delete_val):\n",
    "        target_node = self.search(delete_val)\n",
    "        if target_node == self.head: # case for the first node / head node\n",
    "            self.head = target_node.next\n",
    "            current = self.head\n",
    "            while current:\n",
    "                if current.next == target_node:\n",
    "                    current.next = self.head\n",
    "                    break\n",
    "                current = current.next\n",
    "        elif target_node.next == self.head: # case for the last node.\n",
    "            current = self.head\n",
    "            while current:\n",
    "                if current.next == target_node:\n",
    "                    current.next = self.head\n",
    "                    break\n",
    "                current = current.next\n",
    "        else:\n",
    "            current = self.head\n",
    "            while current:\n",
    "                if current.next == target_node:\n",
    "                    break\n",
    "                current = current.next\n",
    "            current.next = target_node.next\n",
    "            \n",
    "    def __repr__(self):\n",
    "        string = ''\n",
    "        current = self.head\n",
    "        while current:\n",
    "            string += ' {} ->'.format(current.data)\n",
    "            if current.next == self.head:\n",
    "                break\n",
    "            current = current.next\n",
    "        return 'START{} START'.format(string)\n",
    "    \n",
    "    "
   ]
  },
  {
   "cell_type": "code",
   "execution_count": 174,
   "metadata": {},
   "outputs": [
    {
     "name": "stdout",
     "output_type": "stream",
     "text": [
      "0\n",
      "1\n",
      "2\n"
     ]
    }
   ],
   "source": [
    "test_csll = Circular_SLL()\n",
    "\n",
    "for i in range(3):\n",
    "    test_csll.insert(i)\n",
    "    \n",
    "test_csll.traverse()"
   ]
  },
  {
   "cell_type": "code",
   "execution_count": 175,
   "metadata": {},
   "outputs": [
    {
     "name": "stdout",
     "output_type": "stream",
     "text": [
      "3\n"
     ]
    }
   ],
   "source": [
    "print test_csll.size"
   ]
  },
  {
   "cell_type": "code",
   "execution_count": 176,
   "metadata": {},
   "outputs": [
    {
     "name": "stdout",
     "output_type": "stream",
     "text": [
      "2\n"
     ]
    }
   ],
   "source": [
    "print test_csll.search(2).data"
   ]
  },
  {
   "cell_type": "code",
   "execution_count": 177,
   "metadata": {},
   "outputs": [
    {
     "name": "stdout",
     "output_type": "stream",
     "text": [
      "START 0 -> 1 -> 2 -> START\n"
     ]
    }
   ],
   "source": [
    "print test_csll"
   ]
  },
  {
   "cell_type": "code",
   "execution_count": 184,
   "metadata": {},
   "outputs": [],
   "source": [
    "test_csll2 = Circular_SLL()\n",
    "\n",
    "for i in range(3):\n",
    "    test_csll2.insert(i)"
   ]
  },
  {
   "cell_type": "code",
   "execution_count": 185,
   "metadata": {},
   "outputs": [
    {
     "name": "stdout",
     "output_type": "stream",
     "text": [
      "START 0 -> 1 -> 2 -> START\n",
      "START 0 -> 1 -> START\n"
     ]
    }
   ],
   "source": [
    "print test_csll2\n",
    "\n",
    "test_csll2.delete(2)\n",
    "\n",
    "print test_csll2"
   ]
  }
 ],
 "metadata": {
  "kernelspec": {
   "display_name": "Python 2",
   "language": "python",
   "name": "python2"
  },
  "language_info": {
   "codemirror_mode": {
    "name": "ipython",
    "version": 2
   },
   "file_extension": ".py",
   "mimetype": "text/x-python",
   "name": "python",
   "nbconvert_exporter": "python",
   "pygments_lexer": "ipython2",
   "version": "2.7.13"
  }
 },
 "nbformat": 4,
 "nbformat_minor": 1
}
